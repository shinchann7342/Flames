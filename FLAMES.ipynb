{
 "cells": [
  {
   "cell_type": "code",
   "execution_count": 13,
   "metadata": {},
   "outputs": [
    {
     "name": "stdout",
     "output_type": "stream",
     "text": [
      "Hello Aval🦋❤️\n"
     ]
    }
   ],
   "source": [
    "print(\"Hello Aval🦋❤️\")"
   ]
  },
  {
   "cell_type": "code",
   "execution_count": 26,
   "metadata": {},
   "outputs": [
    {
     "name": "stdin",
     "output_type": "stream",
     "text": [
      "Kimino Namae : Vasanth\n",
      "Kanojo no Namae: Manusha\n"
     ]
    }
   ],
   "source": [
    "name1=input(\"Kimino Namae :\").lower()\n",
    "name2=input(\"Kanojo no Namae:\").lower()\n",
    "\n",
    "n1=name1\n",
    "n2=name2"
   ]
  },
  {
   "cell_type": "code",
   "execution_count": null,
   "metadata": {},
   "outputs": [],
   "source": [
    "type(name1)"
   ]
  },
  {
   "cell_type": "code",
   "execution_count": 27,
   "metadata": {},
   "outputs": [],
   "source": [
    "for i in n1:\n",
    "    if i in n2:\n",
    "        n2=(n2.replace(i,'',1))\n",
    "        n1=n1.replace(i,'',1)\n",
    "#print(name2,name1)\n",
    "count=len(n1+n2)"
   ]
  },
  {
   "cell_type": "code",
   "execution_count": 28,
   "metadata": {},
   "outputs": [
    {
     "data": {
      "text/plain": [
       "4"
      ]
     },
     "execution_count": 28,
     "metadata": {},
     "output_type": "execute_result"
    }
   ],
   "source": [
    "count"
   ]
  },
  {
   "cell_type": "code",
   "execution_count": 29,
   "metadata": {},
   "outputs": [],
   "source": [
    "x=['F','L','A','M','E','S']\n",
    "while (len(x) != 1):\n",
    "    if count%len(x)==0:\n",
    "        #print(count)\n",
    "        #print(len(x),\"len\")\n",
    "        #print(x[-1])\n",
    "        del(x[-1])\n",
    "    else:\n",
    "        m=(count%len(x))\n",
    "        #print(x[m-1])\n",
    "        #print(count)\n",
    "        #print(len(x),\"len\")\n",
    "        del(x[m-1])\n",
    "\n",
    "val=x[0]"
   ]
  },
  {
   "cell_type": "code",
   "execution_count": 30,
   "metadata": {},
   "outputs": [
    {
     "name": "stdout",
     "output_type": "stream",
     "text": [
      "vasanth  and  manusha are bound to be Lovers\n"
     ]
    }
   ],
   "source": [
    "if val=='F':\n",
    "    print(name1,\" and \",name2,\"are Friends\")\n",
    "elif val=='L':\n",
    "    print(name1,\" and \",name2,\"are bound to be Lovers\")\n",
    "elif val=='A':\n",
    "    print(name1,\" and \",name2,\"are Affectionate on each other\")\n",
    "elif val=='M':\n",
    "    print(name1,\" and \",name2,\"are gonna Marry each other\")\n",
    "elif val=='E':\n",
    "    print(name1,\" and \",name2,\"are Enemies\")\n",
    "elif val=='S':\n",
    "    print(name1,\" and \",name2,\"are Siblings\")"
   ]
  },
  {
   "cell_type": "code",
   "execution_count": null,
   "metadata": {},
   "outputs": [],
   "source": []
  }
 ],
 "metadata": {
  "kernelspec": {
   "display_name": "Python 3 (ipykernel)",
   "language": "python",
   "name": "python3"
  },
  "language_info": {
   "codemirror_mode": {
    "name": "ipython",
    "version": 3
   },
   "file_extension": ".py",
   "mimetype": "text/x-python",
   "name": "python",
   "nbconvert_exporter": "python",
   "pygments_lexer": "ipython3",
   "version": "3.11.0"
  }
 },
 "nbformat": 4,
 "nbformat_minor": 4
}
